{
  "nbformat": 4,
  "nbformat_minor": 0,
  "metadata": {
    "colab": {
      "provenance": []
    },
    "kernelspec": {
      "name": "python3",
      "display_name": "Python 3"
    },
    "language_info": {
      "name": "python"
    }
  },
  "cells": [
    {
      "cell_type": "markdown",
      "source": [
        "# ***Title : -  purchase ddata model preprocesing ***\n",
        "\n",
        "---\n",
        "\n",
        "\n",
        "\n",
        "# **Basic step  involve  i envlove in data preprocessing **\n",
        "\n",
        "\n",
        " 1 - import Library\n",
        "\n",
        " 2 - Read dataset from outer Environment\n",
        "\n",
        "3 - Identify what kind of data\n",
        "\n",
        "4 - Handle with missing value ( sklearn impute function)\n",
        "\n",
        "5 -  Encoding Categorical Data\n",
        "\n",
        "6 - prepare and split data in training dataset and test dataset\n",
        "\n",
        "\n",
        "6 - Faeture Scaling\n",
        "\n",
        "\n",
        "\n",
        "\n",
        "\n",
        "\n"
      ],
      "metadata": {
        "id": "pI_WF1oyxCgG"
      }
    },
    {
      "cell_type": "code",
      "execution_count": 1,
      "metadata": {
        "id": "g-7sfwmRSd7X"
      },
      "outputs": [],
      "source": [
        "import numpy as np\n",
        "import pandas as pd"
      ]
    },
    {
      "cell_type": "markdown",
      "source": [
        "Read dataset from outer Environment : - download dataset in my github profile  which is form in csv file\n",
        "copy path and paste it  as it is we shown in below .\n"
      ],
      "metadata": {
        "id": "DaqotmgaztOQ"
      }
    },
    {
      "cell_type": "code",
      "source": [
        "Dataset = pd.read_csv(\"/content/Data.csv\")"
      ],
      "metadata": {
        "id": "X0bf3XgrXh-J"
      },
      "execution_count": 2,
      "outputs": []
    },
    {
      "cell_type": "code",
      "source": [
        "Dataset.columns"
      ],
      "metadata": {
        "colab": {
          "base_uri": "https://localhost:8080/"
        },
        "id": "AiSxac4gXxtc",
        "outputId": "21373202-f50f-4e3e-8e99-38c7bf15c974"
      },
      "execution_count": 3,
      "outputs": [
        {
          "output_type": "execute_result",
          "data": {
            "text/plain": [
              "Index(['Country', 'Age', 'Salary', 'Purchased'], dtype='object')"
            ]
          },
          "metadata": {},
          "execution_count": 3
        }
      ]
    },
    {
      "cell_type": "code",
      "source": [
        "x = Dataset[[\"Country\",\"Age\",\"Salary\"]].values"
      ],
      "metadata": {
        "id": "mqC0qAniXqOm"
      },
      "execution_count": 4,
      "outputs": []
    },
    {
      "cell_type": "code",
      "source": [
        "y = Dataset[[\"Purchased\"]].values"
      ],
      "metadata": {
        "id": "uLhghvqLX-KH"
      },
      "execution_count": 5,
      "outputs": []
    },
    {
      "cell_type": "markdown",
      "source": [
        "Handle missing value : -  we also use fill missing value using fillna function\n",
        "But  here we use sklearn library function name SimpleImputer"
      ],
      "metadata": {
        "id": "EQYusBnZ0L_h"
      }
    },
    {
      "cell_type": "code",
      "source": [
        "from sklearn.impute import SimpleImputer"
      ],
      "metadata": {
        "id": "cMKHH81dYImF"
      },
      "execution_count": null,
      "outputs": []
    },
    {
      "cell_type": "code",
      "source": [
        "imputer = SimpleImputer()"
      ],
      "metadata": {
        "id": "tWNnXpDEYc7O"
      },
      "execution_count": null,
      "outputs": []
    },
    {
      "cell_type": "code",
      "source": [
        "imputer = SimpleImputer(missing_values = np.nan,strategy= 'mean')"
      ],
      "metadata": {
        "id": "D4aF8EcpYhFs"
      },
      "execution_count": null,
      "outputs": []
    },
    {
      "cell_type": "code",
      "source": [
        "imputer = imputer.fit(x[:,1:3])"
      ],
      "metadata": {
        "id": "HjlJSb7-Y4GM"
      },
      "execution_count": null,
      "outputs": []
    },
    {
      "cell_type": "code",
      "source": [
        "x[:,1:3]= imputer.transform(x[:,1:3])"
      ],
      "metadata": {
        "id": "QdFcytGxZU67"
      },
      "execution_count": null,
      "outputs": []
    },
    {
      "cell_type": "markdown",
      "source": [
        "ENCODING CATEGORICAL DATA\n",
        "\n",
        " let suppose we transform country name into machine readble form before training  machine learninng model .\n",
        "\n",
        "\n",
        "     When we tranform using preprocessing using labelencoder\n",
        "\n",
        "\n",
        "     show this type of array [ 0,1,2,3,4,5-----etc ]\n",
        "     but problem this sometimes macine learning model understand 0 is less then 1 and 1 is less then 2 who is absolutely wrong\n",
        "\n",
        "  show in this stage after label encoding we use one another library which name is One hot encoder (dummy encoding )\n",
        "  he shows value in form of   this\n",
        "   \n",
        "  \n",
        "                                  array  ([[1., 0., 0.],\n",
        "                                           [0., 0., 1.],\n",
        "                                           [0., 1., 0.],\n",
        "                                           [0., 0., 1.],\n",
        "                                           [0., 1., 0.],\n",
        "                                           [1., 0., 0.],\n",
        "                                           [0., 0., 1.],\n",
        "                                           [1., 0., 0.],\n",
        "                                           [0., 1., 0.],\n",
        "                                           [1., 0., 0.]])\n",
        "\n"
      ],
      "metadata": {
        "id": "DnFARrcJZj4Q"
      }
    },
    {
      "cell_type": "code",
      "source": [],
      "metadata": {
        "id": "Z-AJ0RaF3Bqp"
      },
      "execution_count": null,
      "outputs": []
    },
    {
      "cell_type": "markdown",
      "source": [],
      "metadata": {
        "id": "I2N7xQ8f3B9L"
      }
    },
    {
      "cell_type": "code",
      "source": [
        "from sklearn.preprocessing import LabelEncoder"
      ],
      "metadata": {
        "id": "tpmNJFEuZqUc"
      },
      "execution_count": null,
      "outputs": []
    },
    {
      "cell_type": "code",
      "source": [
        "label_encder_x = LabelEncoder()"
      ],
      "metadata": {
        "id": "0RS0kLp2aAvZ"
      },
      "execution_count": null,
      "outputs": []
    },
    {
      "cell_type": "code",
      "source": [
        "x[:,0] = label_encder_x.fit_transform(x[:,0])"
      ],
      "metadata": {
        "id": "HBu3HebyaJV-"
      },
      "execution_count": null,
      "outputs": []
    },
    {
      "cell_type": "code",
      "source": [
        "x"
      ],
      "metadata": {
        "colab": {
          "base_uri": "https://localhost:8080/"
        },
        "id": "zNJ3gh-Eal_w",
        "outputId": "b23d196b-52fa-414b-af45-a1de154fa5e4"
      },
      "execution_count": null,
      "outputs": [
        {
          "output_type": "execute_result",
          "data": {
            "text/plain": [
              "array([[0, 44.0, 72000.0],\n",
              "       [2, 27.0, 48000.0],\n",
              "       [1, 30.0, 54000.0],\n",
              "       [2, 38.0, 61000.0],\n",
              "       [1, 40.0, 63777.77777777778],\n",
              "       [0, 35.0, 58000.0],\n",
              "       [2, 38.77777777777778, 52000.0],\n",
              "       [0, 48.0, 79000.0],\n",
              "       [1, 50.0, 83000.0],\n",
              "       [0, 37.0, 67000.0]], dtype=object)"
            ]
          },
          "metadata": {},
          "execution_count": 19
        }
      ]
    },
    {
      "cell_type": "code",
      "source": [],
      "metadata": {
        "id": "RYSeOQw4an8d"
      },
      "execution_count": null,
      "outputs": []
    },
    {
      "cell_type": "markdown",
      "source": [
        "After Encoding we find issue all value in 0,1,2---\n",
        "\n",
        "\n",
        "suppse my train datset is assume 0<1<2\n",
        "\n",
        "\n",
        "## Use Dummy Encoder"
      ],
      "metadata": {
        "id": "fShtF3oAauc7"
      }
    },
    {
      "cell_type": "code",
      "source": [
        "from sklearn.preprocessing import OneHotEncoder"
      ],
      "metadata": {
        "id": "QUGfXznWbVWs"
      },
      "execution_count": null,
      "outputs": []
    },
    {
      "cell_type": "code",
      "source": [
        "ohe = OneHotEncoder()"
      ],
      "metadata": {
        "id": "IzAeJeY6bq_9"
      },
      "execution_count": null,
      "outputs": []
    },
    {
      "cell_type": "code",
      "source": [
        "x= ohe.fit_transform(Dataset.Country.values.reshape(-1,1)).toarray()"
      ],
      "metadata": {
        "id": "9e7A6_kDbyBp"
      },
      "execution_count": null,
      "outputs": []
    },
    {
      "cell_type": "code",
      "source": [
        "x"
      ],
      "metadata": {
        "colab": {
          "base_uri": "https://localhost:8080/"
        },
        "id": "pDXvi5RtcdXY",
        "outputId": "5094b002-2f6a-4ba2-bf67-230406cd27c1"
      },
      "execution_count": null,
      "outputs": [
        {
          "output_type": "execute_result",
          "data": {
            "text/plain": [
              "array([[1., 0., 0.],\n",
              "       [0., 0., 1.],\n",
              "       [0., 1., 0.],\n",
              "       [0., 0., 1.],\n",
              "       [0., 1., 0.],\n",
              "       [1., 0., 0.],\n",
              "       [0., 0., 1.],\n",
              "       [1., 0., 0.],\n",
              "       [0., 1., 0.],\n",
              "       [1., 0., 0.]])"
            ]
          },
          "metadata": {},
          "execution_count": 23
        }
      ]
    },
    {
      "cell_type": "code",
      "source": [
        "y"
      ],
      "metadata": {
        "colab": {
          "base_uri": "https://localhost:8080/"
        },
        "id": "-_MxinxacmTO",
        "outputId": "2be4372f-49d5-473e-dfc7-9b3ad7be353f"
      },
      "execution_count": null,
      "outputs": [
        {
          "output_type": "execute_result",
          "data": {
            "text/plain": [
              "array([['No'],\n",
              "       ['Yes'],\n",
              "       ['No'],\n",
              "       ['No'],\n",
              "       ['Yes'],\n",
              "       ['Yes'],\n",
              "       ['No'],\n",
              "       ['Yes'],\n",
              "       ['No'],\n",
              "       ['Yes']], dtype=object)"
            ]
          },
          "metadata": {},
          "execution_count": 25
        }
      ]
    },
    {
      "cell_type": "code",
      "source": [
        "label_encoder_y = LabelEncoder()"
      ],
      "metadata": {
        "id": "S2kU8FxIdDro"
      },
      "execution_count": null,
      "outputs": []
    },
    {
      "cell_type": "code",
      "source": [
        "y = label_encoder_y.fit_transform(y)"
      ],
      "metadata": {
        "colab": {
          "base_uri": "https://localhost:8080/"
        },
        "id": "FwwZrFzodL5U",
        "outputId": "9907ada0-1e7d-43ba-e243-6f437ed4c301"
      },
      "execution_count": null,
      "outputs": [
        {
          "output_type": "stream",
          "name": "stderr",
          "text": [
            "/usr/local/lib/python3.10/dist-packages/sklearn/preprocessing/_label.py:116: DataConversionWarning: A column-vector y was passed when a 1d array was expected. Please change the shape of y to (n_samples, ), for example using ravel().\n",
            "  y = column_or_1d(y, warn=True)\n"
          ]
        }
      ]
    },
    {
      "cell_type": "code",
      "source": [
        "y"
      ],
      "metadata": {
        "colab": {
          "base_uri": "https://localhost:8080/"
        },
        "id": "TIK3oryTdVHc",
        "outputId": "864b004e-6e6b-4383-f057-e215f5c6443f"
      },
      "execution_count": null,
      "outputs": [
        {
          "output_type": "execute_result",
          "data": {
            "text/plain": [
              "array([0, 1, 0, 0, 1, 1, 0, 1, 0, 1])"
            ]
          },
          "metadata": {},
          "execution_count": 28
        }
      ]
    },
    {
      "cell_type": "code",
      "source": [
        "from sklearn.model_selection import train_test_split"
      ],
      "metadata": {
        "id": "eQJNeLEWdlUc"
      },
      "execution_count": null,
      "outputs": []
    },
    {
      "cell_type": "code",
      "source": [
        "x_train,x_test,y_train,y_test = train_test_split(x,y,test_size = 0.2,random_state = 0)"
      ],
      "metadata": {
        "id": "5mK4S61Id-Ya"
      },
      "execution_count": null,
      "outputs": []
    },
    {
      "cell_type": "code",
      "source": [
        "x_train,y_train"
      ],
      "metadata": {
        "colab": {
          "base_uri": "https://localhost:8080/"
        },
        "id": "JsiNqm6lmWjo",
        "outputId": "f5d4b9b9-2d15-4888-8c35-b061cbf37499"
      },
      "execution_count": null,
      "outputs": [
        {
          "output_type": "execute_result",
          "data": {
            "text/plain": [
              "(array([[-1.        ,  2.64575131, -0.77459667],\n",
              "        [ 1.        , -0.37796447, -0.77459667],\n",
              "        [-1.        , -0.37796447,  1.29099445],\n",
              "        [-1.        , -0.37796447,  1.29099445],\n",
              "        [ 1.        , -0.37796447, -0.77459667],\n",
              "        [-1.        , -0.37796447,  1.29099445],\n",
              "        [ 1.        , -0.37796447, -0.77459667],\n",
              "        [ 1.        , -0.37796447, -0.77459667]]),\n",
              " array([1, 1, 1, 0, 1, 0, 0, 1]))"
            ]
          },
          "metadata": {},
          "execution_count": 41
        }
      ]
    },
    {
      "cell_type": "code",
      "source": [
        "x_test"
      ],
      "metadata": {
        "colab": {
          "base_uri": "https://localhost:8080/"
        },
        "id": "C2_znmktoC6f",
        "outputId": "05ab7e45-8179-4bf5-d123-c27ecbc1a938"
      },
      "execution_count": null,
      "outputs": [
        {
          "output_type": "execute_result",
          "data": {
            "text/plain": [
              "array([[0., 1., 0.],\n",
              "       [0., 1., 0.]])"
            ]
          },
          "metadata": {},
          "execution_count": 42
        }
      ]
    },
    {
      "cell_type": "markdown",
      "source": [
        "Feature Scaling  ; -  Highly very  same scaleing  \n",
        "\n",
        "\n",
        "sometimes we see some data are varying out scaling"
      ],
      "metadata": {
        "id": "SGE21ywboIdf"
      }
    },
    {
      "cell_type": "code",
      "source": [
        "from sklearn.preprocessing import StandardScaler"
      ],
      "metadata": {
        "id": "tLi8BX1boUhZ"
      },
      "execution_count": null,
      "outputs": []
    },
    {
      "cell_type": "code",
      "source": [
        "st = StandardScaler()"
      ],
      "metadata": {
        "id": "MheoPkBroq3d"
      },
      "execution_count": null,
      "outputs": []
    },
    {
      "cell_type": "code",
      "source": [
        "x_train= st.fit_transform(x_train)"
      ],
      "metadata": {
        "id": "ZbAy1Gqko3bc"
      },
      "execution_count": null,
      "outputs": []
    },
    {
      "cell_type": "code",
      "source": [
        "x_train"
      ],
      "metadata": {
        "colab": {
          "base_uri": "https://localhost:8080/"
        },
        "id": "pdKkW0g_pGAy",
        "outputId": "926d6d1a-c819-42d9-de56-f063e3855df0"
      },
      "execution_count": null,
      "outputs": [
        {
          "output_type": "execute_result",
          "data": {
            "text/plain": [
              "array([[-1.        ,  2.64575131, -0.77459667],\n",
              "       [ 1.        , -0.37796447, -0.77459667],\n",
              "       [-1.        , -0.37796447,  1.29099445],\n",
              "       [-1.        , -0.37796447,  1.29099445],\n",
              "       [ 1.        , -0.37796447, -0.77459667],\n",
              "       [-1.        , -0.37796447,  1.29099445],\n",
              "       [ 1.        , -0.37796447, -0.77459667],\n",
              "       [ 1.        , -0.37796447, -0.77459667]])"
            ]
          },
          "metadata": {},
          "execution_count": 39
        }
      ]
    },
    {
      "cell_type": "code",
      "source": [
        "x_test = st.fit_transform(x_test)"
      ],
      "metadata": {
        "id": "0lj1QusqpVDG"
      },
      "execution_count": null,
      "outputs": []
    },
    {
      "cell_type": "code",
      "source": [
        "x_test"
      ],
      "metadata": {
        "id": "5uW5Il6Lpthe",
        "outputId": "2ffd62df-c1b1-4470-e8d6-08ebce1a253d",
        "colab": {
          "base_uri": "https://localhost:8080/"
        }
      },
      "execution_count": null,
      "outputs": [
        {
          "output_type": "execute_result",
          "data": {
            "text/plain": [
              "array([[0., 0., 0.],\n",
              "       [0., 0., 0.]])"
            ]
          },
          "metadata": {},
          "execution_count": 44
        }
      ]
    },
    {
      "cell_type": "code",
      "source": [],
      "metadata": {
        "id": "O4VL8bcTpvO2"
      },
      "execution_count": null,
      "outputs": []
    }
  ]
}